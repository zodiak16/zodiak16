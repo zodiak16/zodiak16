{
  "cells": [
    {
      "cell_type": "code",
      "source": [
        "# برنامهاي بنویسید که 2 عدد از ورودي دریافت کند و 4 عمل اصلی (جمع،ضرب،تفریقوتقسیم) را با این 2 عدد چاپ کند\n",
        "a=int(input(\"Enter first number: \"))\n",
        "b=int(input(\"Enter second number: \"))\n",
        "print(a+b , a-b , a*b , a/b)"
      ],
      "metadata": {
        "id": "Xrzp606Qp1qh",
        "outputId": "27ab4c55-d072-4a3f-b978-a7ab47f17fbc",
        "colab": {
          "base_uri": "https://localhost:8080/"
        }
      },
      "execution_count": null,
      "outputs": [
        {
          "output_type": "stream",
          "name": "stdout",
          "text": [
            "Enter first number: 6\n",
            "Enter second number: 2\n",
            "8 4 12 3.0\n"
          ]
        }
      ]
    },
    {
      "cell_type": "code",
      "source": [
        "# برنامهاي بنویسید که ضلع مربع را از ورودي دریافت کند و محیط و مساحت آن را چاپ کند\n",
        "x=int(input(\"Enter number\"))\n",
        "print(\"mohit: \", 4*x,\"masahat: \", x**2)"
      ],
      "metadata": {
        "id": "daB8DyErp2Dw",
        "outputId": "3c79fe95-cda7-48ba-b127-72b97f6dd307",
        "colab": {
          "base_uri": "https://localhost:8080/"
        }
      },
      "execution_count": null,
      "outputs": [
        {
          "output_type": "stream",
          "name": "stdout",
          "text": [
            "Enter number6\n",
            "mohit:  24 masahat:  36\n"
          ]
        }
      ]
    },
    {
      "cell_type": "code",
      "source": [
        "# به همراه اسم کاربر چاپ کند \"welcome \" برنامه اي بنویسید با گرفتن اسم کاربر، پیغام\n",
        "name=input(\"Enter your name: \")\n",
        "print(\"welcome\", name,\"!\")"
      ],
      "metadata": {
        "id": "zf5FBy9Xp2K3",
        "outputId": "0dc68847-ddca-4a42-d0e1-923109e32f73",
        "colab": {
          "base_uri": "https://localhost:8080/"
        }
      },
      "execution_count": null,
      "outputs": [
        {
          "output_type": "stream",
          "name": "stdout",
          "text": [
            "Enter your name: amirHossein\n",
            "welcome amirHossein !\n"
          ]
        }
      ]
    },
    {
      "cell_type": "code",
      "source": [
        "# برنامه اي بنویسید که حجم بدنه رباتی را که مکعب مستطیل است، حساب کند.\n",
        "x=int(input(\"Enter first number: \"))\n",
        "y=int(input(\"Enter second number: \"))\n",
        "z=int(input(\"Enter thrid number: \"))\n",
        "print(\"hajme robot= \", x*y*z)"
      ],
      "metadata": {
        "id": "U2hGV3ZUp2Qf",
        "outputId": "805d9a0b-da61-4cd0-e90f-94de2dc33b63",
        "colab": {
          "base_uri": "https://localhost:8080/"
        }
      },
      "execution_count": null,
      "outputs": [
        {
          "output_type": "stream",
          "name": "stdout",
          "text": [
            "Enter first number: 3\n",
            "Enter second number: 6\n",
            "Enter thrid number: 9\n",
            "hajme robot=  162\n"
          ]
        }
      ]
    }
  ],
  "metadata": {
    "colab": {
      "collapsed_sections": [],
      "name": "Amirhossein.SH (lesson 1)",
      "provenance": []
    },
    "kernelspec": {
      "display_name": "Python 3",
      "name": "python3"
    }
  },
  "nbformat": 4,
  "nbformat_minor": 0
}